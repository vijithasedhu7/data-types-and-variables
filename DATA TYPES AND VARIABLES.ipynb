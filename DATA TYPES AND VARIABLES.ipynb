{
 "cells": [
  {
   "cell_type": "code",
   "execution_count": 19,
   "id": "617cf96a",
   "metadata": {},
   "outputs": [],
   "source": [
    "l1=[\"vijitha\",18,3+10j]"
   ]
  },
  {
   "cell_type": "code",
   "execution_count": 20,
   "id": "c46fe1ef",
   "metadata": {},
   "outputs": [
    {
     "data": {
      "text/plain": [
       "['vijitha', 18, (3+10j)]"
      ]
     },
     "execution_count": 20,
     "metadata": {},
     "output_type": "execute_result"
    }
   ],
   "source": [
    "l1"
   ]
  },
  {
   "cell_type": "code",
   "execution_count": 21,
   "id": "639c37a0",
   "metadata": {},
   "outputs": [],
   "source": [
    "l1.append(19)"
   ]
  },
  {
   "cell_type": "code",
   "execution_count": 22,
   "id": "f113c4bb",
   "metadata": {},
   "outputs": [
    {
     "data": {
      "text/plain": [
       "['vijitha', 18, (3+10j), 19]"
      ]
     },
     "execution_count": 22,
     "metadata": {},
     "output_type": "execute_result"
    }
   ],
   "source": [
    "l1"
   ]
  },
  {
   "cell_type": "code",
   "execution_count": 23,
   "id": "fad8f97f",
   "metadata": {},
   "outputs": [
    {
     "data": {
      "text/plain": [
       "'vijitha'"
      ]
     },
     "execution_count": 23,
     "metadata": {},
     "output_type": "execute_result"
    }
   ],
   "source": [
    "l1[0]"
   ]
  },
  {
   "cell_type": "code",
   "execution_count": 24,
   "id": "ced6c42d",
   "metadata": {},
   "outputs": [],
   "source": [
    "tup1=(\"vijitha\",18,(3+10j))"
   ]
  },
  {
   "cell_type": "code",
   "execution_count": 25,
   "id": "cb253225",
   "metadata": {},
   "outputs": [
    {
     "data": {
      "text/plain": [
       "('vijitha', 18, (3+10j))"
      ]
     },
     "execution_count": 25,
     "metadata": {},
     "output_type": "execute_result"
    }
   ],
   "source": [
    "tup1\n"
   ]
  },
  {
   "cell_type": "code",
   "execution_count": 14,
   "id": "a2c95a2a",
   "metadata": {},
   "outputs": [],
   "source": [
    "FLOWERS={1:\"rose\",2:\"jasmine\",3:\"puthumalar\",4:\"lotus\"}"
   ]
  },
  {
   "cell_type": "code",
   "execution_count": 15,
   "id": "55833b10",
   "metadata": {},
   "outputs": [
    {
     "data": {
      "text/plain": [
       "dict"
      ]
     },
     "execution_count": 15,
     "metadata": {},
     "output_type": "execute_result"
    }
   ],
   "source": [
    "type(FLOWERS)"
   ]
  },
  {
   "cell_type": "code",
   "execution_count": 16,
   "id": "c0c7a841",
   "metadata": {},
   "outputs": [
    {
     "data": {
      "text/plain": [
       "dict_values(['rose', 'jasmine', 'puthumalar', 'lotus'])"
      ]
     },
     "execution_count": 16,
     "metadata": {},
     "output_type": "execute_result"
    }
   ],
   "source": [
    "FLOWERS.values()"
   ]
  },
  {
   "cell_type": "code",
   "execution_count": 17,
   "id": "ac1607bf",
   "metadata": {},
   "outputs": [
    {
     "data": {
      "text/plain": [
       "dict_keys([1, 2, 3, 4])"
      ]
     },
     "execution_count": 17,
     "metadata": {},
     "output_type": "execute_result"
    }
   ],
   "source": [
    "FLOWERS.keys()"
   ]
  },
  {
   "cell_type": "code",
   "execution_count": 18,
   "id": "7b04beff",
   "metadata": {},
   "outputs": [
    {
     "data": {
      "text/plain": [
       "'puthumalar'"
      ]
     },
     "execution_count": 18,
     "metadata": {},
     "output_type": "execute_result"
    }
   ],
   "source": [
    "FLOWERS[3]"
   ]
  },
  {
   "cell_type": "code",
   "execution_count": 19,
   "id": "0ce064f6",
   "metadata": {
    "scrolled": true
   },
   "outputs": [
    {
     "data": {
      "text/plain": [
       "'rose'"
      ]
     },
     "execution_count": 19,
     "metadata": {},
     "output_type": "execute_result"
    }
   ],
   "source": [
    "FLOWERS[1]"
   ]
  },
  {
   "cell_type": "code",
   "execution_count": 20,
   "id": "64e74db8",
   "metadata": {},
   "outputs": [
    {
     "data": {
      "text/plain": [
       "'jasmine'"
      ]
     },
     "execution_count": 20,
     "metadata": {},
     "output_type": "execute_result"
    }
   ],
   "source": [
    "FLOWERS[2]"
   ]
  },
  {
   "cell_type": "code",
   "execution_count": 21,
   "id": "816c0c3b",
   "metadata": {},
   "outputs": [
    {
     "data": {
      "text/plain": [
       "'lotus'"
      ]
     },
     "execution_count": 21,
     "metadata": {},
     "output_type": "execute_result"
    }
   ],
   "source": [
    "FLOWERS[4]"
   ]
  },
  {
   "cell_type": "code",
   "execution_count": 22,
   "id": "7f22faca",
   "metadata": {},
   "outputs": [],
   "source": [
    "FLOWERS[1]=\"jasmine\""
   ]
  },
  {
   "cell_type": "code",
   "execution_count": 23,
   "id": "9bfb2589",
   "metadata": {},
   "outputs": [
    {
     "data": {
      "text/plain": [
       "{1: 'jasmine', 2: 'jasmine', 3: 'puthumalar', 4: 'lotus'}"
      ]
     },
     "execution_count": 23,
     "metadata": {},
     "output_type": "execute_result"
    }
   ],
   "source": [
    "FLOWERS"
   ]
  },
  {
   "cell_type": "code",
   "execution_count": 25,
   "id": "55ecee93",
   "metadata": {},
   "outputs": [],
   "source": [
    "DETAIL={\"NAMES\":\"VIJITHA\",\"AGE\":18,\"BLOOD GROUP\":\"B+VE\"}"
   ]
  },
  {
   "cell_type": "code",
   "execution_count": 26,
   "id": "22342419",
   "metadata": {},
   "outputs": [
    {
     "data": {
      "text/plain": [
       "{'NAMES': 'VIJITHA', 'AGE': 18, 'BLOOD GROUP': 'B+VE'}"
      ]
     },
     "execution_count": 26,
     "metadata": {},
     "output_type": "execute_result"
    }
   ],
   "source": [
    "DETAIL"
   ]
  },
  {
   "cell_type": "code",
   "execution_count": 27,
   "id": "ea4c5c6d",
   "metadata": {},
   "outputs": [
    {
     "data": {
      "text/plain": [
       "'VIJITHA'"
      ]
     },
     "execution_count": 27,
     "metadata": {},
     "output_type": "execute_result"
    }
   ],
   "source": [
    "DETAIL[\"NAMES\"]"
   ]
  },
  {
   "cell_type": "code",
   "execution_count": 29,
   "id": "07554f03",
   "metadata": {},
   "outputs": [
    {
     "data": {
      "text/plain": [
       "3"
      ]
     },
     "execution_count": 29,
     "metadata": {},
     "output_type": "execute_result"
    }
   ],
   "source": [
    "len(DETAIL)"
   ]
  },
  {
   "cell_type": "code",
   "execution_count": 30,
   "id": "91380ba8",
   "metadata": {},
   "outputs": [
    {
     "data": {
      "text/plain": [
       "'B+VE'"
      ]
     },
     "execution_count": 30,
     "metadata": {},
     "output_type": "execute_result"
    }
   ],
   "source": [
    "DETAIL[\"BLOOD GROUP\"]"
   ]
  },
  {
   "cell_type": "code",
   "execution_count": 32,
   "id": "f1ba1b67",
   "metadata": {},
   "outputs": [
    {
     "data": {
      "text/plain": [
       "18"
      ]
     },
     "execution_count": 32,
     "metadata": {},
     "output_type": "execute_result"
    }
   ],
   "source": [
    "DETAIL[\"AGE\"]"
   ]
  },
  {
   "cell_type": "code",
   "execution_count": 34,
   "id": "6c4b0bd0",
   "metadata": {},
   "outputs": [
    {
     "data": {
      "text/plain": [
       "'VIJITHA'"
      ]
     },
     "execution_count": 34,
     "metadata": {},
     "output_type": "execute_result"
    }
   ],
   "source": [
    "DETAIL.pop(\"NAMES\")"
   ]
  },
  {
   "cell_type": "code",
   "execution_count": 35,
   "id": "369a71d6",
   "metadata": {},
   "outputs": [
    {
     "data": {
      "text/plain": [
       "{'AGE': 18, 'BLOOD GROUP': 'B+VE'}"
      ]
     },
     "execution_count": 35,
     "metadata": {},
     "output_type": "execute_result"
    }
   ],
   "source": [
    "DETAIL"
   ]
  },
  {
   "cell_type": "code",
   "execution_count": 36,
   "id": "db370aeb",
   "metadata": {},
   "outputs": [
    {
     "data": {
      "text/plain": [
       "18"
      ]
     },
     "execution_count": 36,
     "metadata": {},
     "output_type": "execute_result"
    }
   ],
   "source": [
    "DETAIL.pop(\"AGE\")"
   ]
  },
  {
   "cell_type": "code",
   "execution_count": 37,
   "id": "cc9ebd1b",
   "metadata": {},
   "outputs": [
    {
     "data": {
      "text/plain": [
       "{'BLOOD GROUP': 'B+VE'}"
      ]
     },
     "execution_count": 37,
     "metadata": {},
     "output_type": "execute_result"
    }
   ],
   "source": [
    "DETAIL"
   ]
  },
  {
   "cell_type": "code",
   "execution_count": 38,
   "id": "3f2d2780",
   "metadata": {},
   "outputs": [
    {
     "data": {
      "text/plain": [
       "'B+VE'"
      ]
     },
     "execution_count": 38,
     "metadata": {},
     "output_type": "execute_result"
    }
   ],
   "source": [
    "DETAIL.pop(\"BLOOD GROUP\")"
   ]
  },
  {
   "cell_type": "markdown",
   "id": "f94e36dc",
   "metadata": {},
   "source": [
    "# SET"
   ]
  },
  {
   "cell_type": "code",
   "execution_count": 46,
   "id": "6cf7b837",
   "metadata": {},
   "outputs": [],
   "source": [
    "DETAIL2={\"VIJITHA:18\",\"RAKSHANA:18\"}"
   ]
  },
  {
   "cell_type": "code",
   "execution_count": 47,
   "id": "7488057b",
   "metadata": {},
   "outputs": [
    {
     "data": {
      "text/plain": [
       "set"
      ]
     },
     "execution_count": 47,
     "metadata": {},
     "output_type": "execute_result"
    }
   ],
   "source": [
    "type(DETAIL2)"
   ]
  },
  {
   "cell_type": "code",
   "execution_count": 48,
   "id": "6a676a72",
   "metadata": {},
   "outputs": [
    {
     "data": {
      "text/plain": [
       "{'RAKSHANA:18', 'VIJITHA:18'}"
      ]
     },
     "execution_count": 48,
     "metadata": {},
     "output_type": "execute_result"
    }
   ],
   "source": [
    "DETAIL2"
   ]
  },
  {
   "cell_type": "code",
   "execution_count": 49,
   "id": "504fbce4",
   "metadata": {},
   "outputs": [],
   "source": [
    "DETAIL2.update({\"SUPRITHA\",\"DIVYA\"})"
   ]
  },
  {
   "cell_type": "code",
   "execution_count": 50,
   "id": "f26956b0",
   "metadata": {
    "scrolled": true
   },
   "outputs": [
    {
     "data": {
      "text/plain": [
       "{'DIVYA', 'RAKSHANA:18', 'SUPRITHA', 'VIJITHA:18'}"
      ]
     },
     "execution_count": 50,
     "metadata": {},
     "output_type": "execute_result"
    }
   ],
   "source": [
    "DETAIL2"
   ]
  },
  {
   "cell_type": "markdown",
   "id": "76009790",
   "metadata": {},
   "source": [
    "# FROZEN SET"
   ]
  },
  {
   "cell_type": "code",
   "execution_count": 55,
   "id": "1306f2a6",
   "metadata": {},
   "outputs": [],
   "source": [
    "DETAIL3=frozenset({\"SUPRITHA\",\"DIVYA\"})"
   ]
  },
  {
   "cell_type": "code",
   "execution_count": 56,
   "id": "0eb8d8e1",
   "metadata": {},
   "outputs": [
    {
     "data": {
      "text/plain": [
       "frozenset({'DIVYA', 'SUPRITHA'})"
      ]
     },
     "execution_count": 56,
     "metadata": {},
     "output_type": "execute_result"
    }
   ],
   "source": [
    "DETAIL3"
   ]
  },
  {
   "cell_type": "code",
   "execution_count": 58,
   "id": "75951c2c",
   "metadata": {},
   "outputs": [
    {
     "data": {
      "text/plain": [
       "True"
      ]
     },
     "execution_count": 58,
     "metadata": {},
     "output_type": "execute_result"
    }
   ],
   "source": [
    "a=90\n",
    "b=80\n",
    "a>b"
   ]
  },
  {
   "cell_type": "code",
   "execution_count": null,
   "id": "69aba36b",
   "metadata": {},
   "outputs": [],
   "source": []
  }
 ],
 "metadata": {
  "kernelspec": {
   "display_name": "Python 3 (ipykernel)",
   "language": "python",
   "name": "python3"
  },
  "language_info": {
   "codemirror_mode": {
    "name": "ipython",
    "version": 3
   },
   "file_extension": ".py",
   "mimetype": "text/x-python",
   "name": "python",
   "nbconvert_exporter": "python",
   "pygments_lexer": "ipython3",
   "version": "3.9.17"
  }
 },
 "nbformat": 4,
 "nbformat_minor": 5
}
