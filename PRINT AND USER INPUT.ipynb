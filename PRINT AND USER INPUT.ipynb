{
 "cells": [
  {
   "cell_type": "code",
   "execution_count": 1,
   "id": "6a714139",
   "metadata": {},
   "outputs": [],
   "source": [
    "j=3"
   ]
  },
  {
   "cell_type": "code",
   "execution_count": 2,
   "id": "b0fe96f2",
   "metadata": {},
   "outputs": [
    {
     "data": {
      "text/plain": [
       "3"
      ]
     },
     "execution_count": 2,
     "metadata": {},
     "output_type": "execute_result"
    }
   ],
   "source": [
    "j"
   ]
  },
  {
   "cell_type": "code",
   "execution_count": 4,
   "id": "b9da10b3",
   "metadata": {},
   "outputs": [
    {
     "name": "stdout",
     "output_type": "stream",
     "text": [
      "3\n"
     ]
    }
   ],
   "source": [
    "print(j)"
   ]
  },
  {
   "cell_type": "markdown",
   "id": "93c23e8e",
   "metadata": {},
   "source": [
    "# FORMAT PRINT"
   ]
  },
  {
   "cell_type": "code",
   "execution_count": 7,
   "id": "00004dcb",
   "metadata": {},
   "outputs": [
    {
     "name": "stdout",
     "output_type": "stream",
     "text": [
      "the value of 'j' is 3\n"
     ]
    }
   ],
   "source": [
    "print(\"the value of 'j' is {}\".format(j))"
   ]
  },
  {
   "cell_type": "code",
   "execution_count": 9,
   "id": "830727c9",
   "metadata": {},
   "outputs": [],
   "source": [
    "NAME='vijitha sedhu'"
   ]
  },
  {
   "cell_type": "code",
   "execution_count": 10,
   "id": "c9fa0197",
   "metadata": {},
   "outputs": [
    {
     "data": {
      "text/plain": [
       "'vijitha sedhu'"
      ]
     },
     "execution_count": 10,
     "metadata": {},
     "output_type": "execute_result"
    }
   ],
   "source": [
    "NAME"
   ]
  },
  {
   "cell_type": "code",
   "execution_count": 11,
   "id": "dcb76f32",
   "metadata": {},
   "outputs": [
    {
     "name": "stdout",
     "output_type": "stream",
     "text": [
      "my name is vijitha sedhu\n"
     ]
    }
   ],
   "source": [
    "print(\"my name is {}\".format(NAME))"
   ]
  },
  {
   "cell_type": "code",
   "execution_count": 17,
   "id": "90bc0b08",
   "metadata": {},
   "outputs": [
    {
     "name": "stdout",
     "output_type": "stream",
     "text": [
      "my name is vijitha.i am in pmist\n"
     ]
    }
   ],
   "source": [
    "print(\"my name is {name}.i am in {colledge}\".format(name='vijitha',colledge='pmist'))"
   ]
  },
  {
   "cell_type": "code",
   "execution_count": 18,
   "id": "5271c256",
   "metadata": {},
   "outputs": [
    {
     "name": "stdout",
     "output_type": "stream",
     "text": [
      "my name is hardik pandya.i am a cricketer\n"
     ]
    }
   ],
   "source": [
    "print(\"my name is {name}.i am a {field}\".format(name='hardik pandya',field='cricketer'))"
   ]
  },
  {
   "cell_type": "code",
   "execution_count": 19,
   "id": "cb0feb27",
   "metadata": {},
   "outputs": [
    {
     "name": "stdout",
     "output_type": "stream",
     "text": [
      "my name is hardik pandya.i am a cricketer\n"
     ]
    }
   ],
   "source": [
    "print(\"my name is {}.i am a {}\".format(\"hardik pandya\",\"cricketer\"))"
   ]
  },
  {
   "cell_type": "markdown",
   "id": "66cc1469",
   "metadata": {},
   "source": [
    "# F-PRINT"
   ]
  },
  {
   "cell_type": "code",
   "execution_count": 20,
   "id": "c0534b5f",
   "metadata": {},
   "outputs": [
    {
     "name": "stdout",
     "output_type": "stream",
     "text": [
      "my name is vijitha.i am computer science engineer\n"
     ]
    }
   ],
   "source": [
    "print(f\"my name is {'vijitha'}.i am {'computer science'} engineer\")"
   ]
  },
  {
   "cell_type": "code",
   "execution_count": 30,
   "id": "4166bfd9",
   "metadata": {},
   "outputs": [
    {
     "name": "stdout",
     "output_type": "stream",
     "text": [
      "she sell sea shell in sea shore\n"
     ]
    }
   ],
   "source": [
    "print(f'she sell {\"sea\"} shell in sea shore')"
   ]
  },
  {
   "cell_type": "markdown",
   "id": "481d5f02",
   "metadata": {},
   "source": [
    "# SER INPUT"
   ]
  },
  {
   "cell_type": "code",
   "execution_count": 32,
   "id": "fd0f67a3",
   "metadata": {},
   "outputs": [
    {
     "name": "stdout",
     "output_type": "stream",
     "text": [
      "30\n"
     ]
    }
   ],
   "source": [
    "var=input()"
   ]
  },
  {
   "cell_type": "code",
   "execution_count": 33,
   "id": "71f11d59",
   "metadata": {},
   "outputs": [
    {
     "data": {
      "text/plain": [
       "'30'"
      ]
     },
     "execution_count": 33,
     "metadata": {},
     "output_type": "execute_result"
    }
   ],
   "source": [
    "var"
   ]
  },
  {
   "cell_type": "code",
   "execution_count": 39,
   "id": "87d53b59",
   "metadata": {},
   "outputs": [
    {
     "name": "stdout",
     "output_type": "stream",
     "text": [
      "7\n"
     ]
    }
   ],
   "source": [
    "var=input()"
   ]
  },
  {
   "cell_type": "code",
   "execution_count": 40,
   "id": "9f5fafe2",
   "metadata": {},
   "outputs": [
    {
     "data": {
      "text/plain": [
       "'7'"
      ]
     },
     "execution_count": 40,
     "metadata": {},
     "output_type": "execute_result"
    }
   ],
   "source": [
    "var\n"
   ]
  },
  {
   "cell_type": "code",
   "execution_count": 41,
   "id": "54eaca76",
   "metadata": {},
   "outputs": [
    {
     "name": "stdout",
     "output_type": "stream",
     "text": [
      "enter a fruitapple\n"
     ]
    }
   ],
   "source": [
    "var=input(\"enter a fruit\")"
   ]
  },
  {
   "cell_type": "code",
   "execution_count": 42,
   "id": "b5588296",
   "metadata": {},
   "outputs": [
    {
     "data": {
      "text/plain": [
       "'apple'"
      ]
     },
     "execution_count": 42,
     "metadata": {},
     "output_type": "execute_result"
    }
   ],
   "source": [
    "var"
   ]
  },
  {
   "cell_type": "code",
   "execution_count": 43,
   "id": "509ab181",
   "metadata": {},
   "outputs": [
    {
     "name": "stdout",
     "output_type": "stream",
     "text": [
      "75\n"
     ]
    }
   ],
   "source": [
    "var1=int(input())"
   ]
  },
  {
   "cell_type": "code",
   "execution_count": 44,
   "id": "62518c26",
   "metadata": {},
   "outputs": [
    {
     "data": {
      "text/plain": [
       "int"
      ]
     },
     "execution_count": 44,
     "metadata": {},
     "output_type": "execute_result"
    }
   ],
   "source": [
    "type(var1)"
   ]
  },
  {
   "cell_type": "code",
   "execution_count": null,
   "id": "55af3b69",
   "metadata": {},
   "outputs": [],
   "source": []
  },
  {
   "cell_type": "code",
   "execution_count": null,
   "id": "a213fb09",
   "metadata": {},
   "outputs": [],
   "source": []
  }
 ],
 "metadata": {
  "kernelspec": {
   "display_name": "Python 3 (ipykernel)",
   "language": "python",
   "name": "python3"
  },
  "language_info": {
   "codemirror_mode": {
    "name": "ipython",
    "version": 3
   },
   "file_extension": ".py",
   "mimetype": "text/x-python",
   "name": "python",
   "nbconvert_exporter": "python",
   "pygments_lexer": "ipython3",
   "version": "3.9.17"
  }
 },
 "nbformat": 4,
 "nbformat_minor": 5
}
